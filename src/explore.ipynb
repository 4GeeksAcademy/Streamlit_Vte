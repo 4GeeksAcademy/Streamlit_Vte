{
    "cells": [
        {
            "cell_type": "markdown",
            "metadata": {},
            "source": [
                "# ML web app using Streamlit tutorial"
            ]
        },
        {
            "cell_type": "code",
            "execution_count": 4,
            "metadata": {},
            "outputs": [
                {
                    "name": "stderr",
                    "output_type": "stream",
                    "text": [
                        "2025-02-12 19:15:32.754 WARNING streamlit.runtime.scriptrunner_utils.script_run_context: Thread 'MainThread': missing ScriptRunContext! This warning can be ignored when running in bare mode.\n",
                        "2025-02-12 19:15:32.772 \n",
                        "  \u001b[33m\u001b[1mWarning:\u001b[0m to view this Streamlit app on a browser, run it with the following\n",
                        "  command:\n",
                        "\n",
                        "    streamlit run /home/vscode/.local/lib/python3.10/site-packages/ipykernel_launcher.py [ARGUMENTS]\n",
                        "2025-02-12 19:15:32.773 Thread 'MainThread': missing ScriptRunContext! This warning can be ignored when running in bare mode.\n",
                        "2025-02-12 19:15:32.773 Thread 'MainThread': missing ScriptRunContext! This warning can be ignored when running in bare mode.\n",
                        "2025-02-12 19:15:32.774 Thread 'MainThread': missing ScriptRunContext! This warning can be ignored when running in bare mode.\n",
                        "2025-02-12 19:15:32.775 Thread 'MainThread': missing ScriptRunContext! This warning can be ignored when running in bare mode.\n",
                        "2025-02-12 19:15:32.775 Thread 'MainThread': missing ScriptRunContext! This warning can be ignored when running in bare mode.\n",
                        "2025-02-12 19:15:32.776 Thread 'MainThread': missing ScriptRunContext! This warning can be ignored when running in bare mode.\n",
                        "2025-02-12 19:15:32.777 Thread 'MainThread': missing ScriptRunContext! This warning can be ignored when running in bare mode.\n",
                        "2025-02-12 19:15:32.777 Thread 'MainThread': missing ScriptRunContext! This warning can be ignored when running in bare mode.\n",
                        "2025-02-12 19:15:32.778 Thread 'MainThread': missing ScriptRunContext! This warning can be ignored when running in bare mode.\n",
                        "2025-02-12 19:15:32.779 Session state does not function when running a script without `streamlit run`\n",
                        "2025-02-12 19:15:32.779 Thread 'MainThread': missing ScriptRunContext! This warning can be ignored when running in bare mode.\n",
                        "2025-02-12 19:15:32.780 Thread 'MainThread': missing ScriptRunContext! This warning can be ignored when running in bare mode.\n",
                        "2025-02-12 19:15:32.780 Thread 'MainThread': missing ScriptRunContext! This warning can be ignored when running in bare mode.\n",
                        "2025-02-12 19:15:32.781 Thread 'MainThread': missing ScriptRunContext! This warning can be ignored when running in bare mode.\n",
                        "2025-02-12 19:15:32.782 Thread 'MainThread': missing ScriptRunContext! This warning can be ignored when running in bare mode.\n",
                        "2025-02-12 19:15:32.782 Thread 'MainThread': missing ScriptRunContext! This warning can be ignored when running in bare mode.\n",
                        "2025-02-12 19:15:32.783 Thread 'MainThread': missing ScriptRunContext! This warning can be ignored when running in bare mode.\n"
                    ]
                }
            ],
            "source": [
                "import streamlit as st\n",
                "from streamlit_extras.switch_page_button import switch_page\n",
                "import random\n",
                "\n",
                "def main():\n",
                "    st.title('Bienvenido al portal \"Ponte guap@\"')\n",
                "    st.write('**Por favor selecciona uno de nuestros servicios**')\n",
                "    \n",
                "    opcion = st.radio('Seleccione el servicio:', \n",
                "                      ('Sube una foto para ver si vas combinad@', 'Dime que colores llevas', 'Dame un consejo para estar más Guap@'), \n",
                "                      index=0, \n",
                "                      key='option')\n",
                "    \n",
                "    if st.button('Empezar!'):\n",
                "        route_prediction(opcion)\n",
                "\n",
                "\n",
                "def route_prediction(opcion):\n",
                "    if opcion == 'Sube una foto para ver si vas combinad@':\n",
                "        switch_page(\"pred_imagen\")\n",
                "    elif opcion == 'Dime que colores llevas':\n",
                "        switch_page(\"pred_colores\")\n",
                "    elif opcion == 'Dame un consejo para estar más Guap@':\n",
                "        switch_page(\"pred_consejo\")\n",
                " \n",
                "if __name__ == \"__main__\":\n",
                "    main()"
            ]
        },
        {
            "cell_type": "code",
            "execution_count": 16,
            "metadata": {},
            "outputs": [
                {
                    "name": "stdout",
                    "output_type": "stream",
                    "text": [
                        "Zapatos limpios, porque todos los miran sin que lo notes.\n"
                    ]
                }
            ],
            "source": [
                "def predict_consejo():\n",
                "    # Coge una frase del string aleatoria\n",
                "    consejos = ['Vístete según tu talla, no la que deseas tener.',\n",
                "                 'El negro adelgaza, pero no hace milagros.', \n",
                "                 'Si dudas, ponte jeans; nunca fallan.',  \n",
                "                 \"Las chanclas son para la playa, no para la ciudad.\",\n",
                "                 \"Las marcas no hacen estilo, tu actitud sí.\",\n",
                "                 \"Combinar estampados es arte, o un desastre.\",\n",
                "                 \"Zapatos limpios, porque todos los miran sin que lo notes.\",\n",
                "                 \"La moda pasa, las fotos quedan. Piénsalo.\"]\n",
                "\n",
                "    return random.choice(consejos)\n",
                "\n",
                "print(predict_consejo())"
            ]
        }
    ],
    "metadata": {
        "kernelspec": {
            "display_name": "Python 3",
            "language": "python",
            "name": "python3"
        },
        "language_info": {
            "codemirror_mode": {
                "name": "ipython",
                "version": 3
            },
            "file_extension": ".py",
            "mimetype": "text/x-python",
            "name": "python",
            "nbconvert_exporter": "python",
            "pygments_lexer": "ipython3",
            "version": "3.10.12"
        },
        "orig_nbformat": 4
    },
    "nbformat": 4,
    "nbformat_minor": 2
}
