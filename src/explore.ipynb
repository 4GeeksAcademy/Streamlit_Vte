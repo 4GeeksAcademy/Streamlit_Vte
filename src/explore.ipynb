{
    "cells": [
        {
            "cell_type": "markdown",
            "metadata": {},
            "source": [
                "# ML web app using Streamlit tutorial"
            ]
        },
        {
            "cell_type": "code",
            "execution_count": null,
            "metadata": {},
            "outputs": [],
            "source": [
                "import streamlit as st\n",
                "from streamlit_extras.switch_page_button import switch_page\n",
                "\n",
                "def main():\n",
                "    st.title('Bienvenido al portal \"Ponte guap@\"')\n",
                "    st.write('**Por favor selecciona uno de nuestros servicios**')\n",
                "    \n",
                "    opcion = st.radio('Seleccione el servicio:', \n",
                "                      ('Sube una foto para ver si vas combinad@', 'Dime que colores llevas', 'Dame un consejo para estar más Guap@'), \n",
                "                      index=0, \n",
                "                      key='option')\n",
                "    \n",
                "    if st.button('Empezar!'):\n",
                "        route_prediction(opcion)\n",
                "\n",
                "\n",
                "def route_prediction(opcion):\n",
                "    if opcion == 'Sube una foto para ver si vas combinad@':\n",
                "        switch_page(\"pred_imagen\")\n",
                "    elif opcion == 'Dime que colores llevas':\n",
                "        switch_page(\"pred_colores\")\n",
                "    elif opcion == 'Dame un consejo para estar más Guap@':\n",
                "        switch_page(\"pred_consejo\")\n",
                " \n",
                "if __name__ == \"__main__\":\n",
                "    main()"
            ]
        }
    ],
    "metadata": {
        "kernelspec": {
            "display_name": "Python 3",
            "language": "python",
            "name": "python3"
        },
        "language_info": {
            "codemirror_mode": {
                "name": "ipython",
                "version": 3
            },
            "file_extension": ".py",
            "mimetype": "text/x-python",
            "name": "python",
            "nbconvert_exporter": "python",
            "pygments_lexer": "ipython3",
            "version": "3.10.12"
        },
        "orig_nbformat": 4
    },
    "nbformat": 4,
    "nbformat_minor": 2
}
